{
  "nbformat": 4,
  "nbformat_minor": 0,
  "metadata": {
    "colab": {
      "provenance": [],
      "private_outputs": true
    },
    "kernelspec": {
      "name": "python3",
      "display_name": "Python 3"
    },
    "language_info": {
      "name": "python"
    },
    "gpuClass": "standard"
  },
  "cells": [
    {
      "cell_type": "markdown",
      "source": [
        "## Imports\n",
        "\n"
      ],
      "metadata": {
        "id": "HpTN7iJeNduF"
      }
    },
    {
      "cell_type": "code",
      "source": [
        "import numpy as np\n",
        "import torch"
      ],
      "metadata": {
        "id": "ZU_YvvDQ_eJS"
      },
      "execution_count": null,
      "outputs": []
    },
    {
      "cell_type": "markdown",
      "source": [
        "## Data loading"
      ],
      "metadata": {
        "id": "QAtpr6R_N44_"
      }
    },
    {
      "cell_type": "code",
      "source": [
        "# Loading of the test dataset of 10 nodes\n",
        "number_nodes = 10\n",
        "test_loader_10 = np.loadtxt(\"tsp-data/tsp10_test_concorde.txt\", usecols=np.concatenate((np.arange(0,number_nodes*2),np.arange(number_nodes*2+1,number_nodes*3+2))))"
      ],
      "metadata": {
        "id": "z5YxGeKaNuM4"
      },
      "execution_count": null,
      "outputs": []
    },
    {
      "cell_type": "code",
      "source": [
        "# Splitting between point coordinates and path\n",
        "test_input_10 = test_loader_10[:,:number_nodes*2]\n",
        "test_input_10 = test_input_10.reshape(test_input_10.shape[0], number_nodes, 2)\n",
        "test_path_10 = test_loader_10[:,number_nodes*2:]"
      ],
      "metadata": {
        "id": "0Fa72rCjNyXt"
      },
      "execution_count": null,
      "outputs": []
    },
    {
      "cell_type": "markdown",
      "source": [
        "## Initialization of $W$ and $\\theta$ \n",
        "\n"
      ],
      "metadata": {
        "id": "ZHOsliIUN-Gz"
      }
    },
    {
      "cell_type": "code",
      "source": [
        "def init_weights(nodes,A,B,C,D):\n",
        "    n, _ = nodes.shape\n",
        "    distances = np.sqrt(((nodes[None,:,:] - nodes[:,None,:])**2).sum(axis=2))\n",
        "    weight = np.zeros((n,n,n,n))\n",
        "    id = np.identity(n)\n",
        "    non_id = (id==0)\n",
        "    id_left = np.roll(id, -1)\n",
        "    id_right = np.roll(id, 1)\n",
        "    weights = -A*(id[:,:,None,None]*non_id[None,None,:,:]) -B*(non_id[:,:,None,None]*id[None,None,:,:]) - C - D*(id_left[None,None,:,:] + id_right[None,None,:,:])*distances[:,:,None,None]\n",
        "    weights = np.transpose(weights,(0,2,1,3))\n",
        "    weights = np.reshape(weights, (n*n,n*n))\n",
        "    return weights\n",
        "\n",
        "def init_threshold(C,N):\n",
        "    return -np.ones(N*N)*C*N"
      ],
      "metadata": {
        "id": "ioaIEr-ODsyH"
      },
      "execution_count": null,
      "outputs": []
    },
    {
      "cell_type": "markdown",
      "source": [
        "## Model"
      ],
      "metadata": {
        "id": "vxwJRqw8OLzn"
      }
    },
    {
      "cell_type": "code",
      "source": [
        "def update(N, weights, threshold, iter):\n",
        "    values = 1/(N)+(np.random.rand(N*N)-0.5)/10000\n",
        "    nodes = activation(values)\n",
        "    for i in range(iter):\n",
        "        s = (weights*nodes).sum(axis=1)\n",
        "        values = values + (-values + s + threshold)*0.000001\n",
        "        nodes = activation(values)\n",
        "    return nodes"
      ],
      "metadata": {
        "id": "IGqpgyC7EMFn"
      },
      "execution_count": null,
      "outputs": []
    },
    {
      "cell_type": "code",
      "source": [
        "def activation(ar):\n",
        "    return 0.5*(1+np.tanh(ar/0.02))"
      ],
      "metadata": {
        "id": "EpPqdXOTEF0K"
      },
      "execution_count": null,
      "outputs": []
    },
    {
      "cell_type": "code",
      "source": [
        "def post_process(values, N):\n",
        "    values = np.reshape(values, (N,N))\n",
        "    a = np.zeros(N)\n",
        "    for i in range(N):\n",
        "        arg = np.argmax(values)\n",
        "        a[arg%10]=arg//10\n",
        "        values[(arg//10),:] = -1\n",
        "        values[:,(arg%10)] = -1\n",
        "    return a"
      ],
      "metadata": {
        "id": "PI-eNFoREtj_"
      },
      "execution_count": null,
      "outputs": []
    },
    {
      "cell_type": "markdown",
      "source": [
        "## Evaluation functions"
      ],
      "metadata": {
        "id": "s9ID1743Ogy2"
      }
    },
    {
      "cell_type": "code",
      "source": [
        "def adjacency(path):\n",
        "  path = torch.tensor(path)\n",
        "  heads = path.int()\n",
        "  tails = torch.roll(heads,-1)\n",
        "  adjacency_matrix = np.zeros((len(path),len(path)))\n",
        "  adjacency_matrix[heads,tails] = 1\n",
        "  adjacency_matrix = torch.tensor(adjacency_matrix, dtype = torch.int64)\n",
        "  return adjacency_matrix"
      ],
      "metadata": {
        "id": "cdkQr__XFHf6"
      },
      "execution_count": null,
      "outputs": []
    },
    {
      "cell_type": "code",
      "source": [
        "def adjacency_matrix(path):\n",
        "  return(adjacency(path[:-1]-1))"
      ],
      "metadata": {
        "id": "UjvH11-hFE_n"
      },
      "execution_count": null,
      "outputs": []
    },
    {
      "cell_type": "code",
      "source": [
        "def dist(nodes, path, target):\n",
        "  if target:\n",
        "    adj_matrix = adjacency(path)\n",
        "  else:\n",
        "    adj_matrix = adjacency_matrix(path)\n",
        "  distances = np.sqrt(((nodes[None,:,:] - nodes[:,None,:])**2).sum(axis=2))\n",
        "  return (adj_matrix * distances).sum(axis=(0,1))"
      ],
      "metadata": {
        "id": "c7Ru6WfRTFbi"
      },
      "execution_count": null,
      "outputs": []
    },
    {
      "cell_type": "code",
      "source": [
        "def iteration(test_input, test_path, nb_nodes, j):\n",
        "  nodes = test_input[j]\n",
        "  opt_path = test_path[j]\n",
        "  values = update(nb_nodes, init_weights(nodes,A,B,C,D), init_threshold(C,nb_nodes), 1000)\n",
        "  path = post_process(values, nb_nodes)\n",
        "  hop_dist = dist(nodes, path, True)\n",
        "  opt_dist = dist(nodes, opt_path, False)\n",
        "  return hop_dist, opt_dist"
      ],
      "metadata": {
        "id": "64_8fraSEyC-"
      },
      "execution_count": null,
      "outputs": []
    },
    {
      "cell_type": "markdown",
      "source": [
        "## Evaluation"
      ],
      "metadata": {
        "id": "e5HqjxivPSeC"
      }
    },
    {
      "cell_type": "code",
      "source": [
        "# Hyperparameters\n",
        "A = 0.7\n",
        "B = 0.7\n",
        "C = 16\n",
        "D = 8"
      ],
      "metadata": {
        "id": "2GWSRp_SDMIQ"
      },
      "execution_count": null,
      "outputs": []
    },
    {
      "cell_type": "code",
      "source": [
        "hop_distances = []\n",
        "opt_distances = []\n",
        "for j in range(len(test_path_10)):\n",
        "  h, o = iteration(test_input_10, test_path_10, 10, j)\n",
        "  hop_distances.append(h)\n",
        "  opt_distances.append(o)\n",
        "print((np.array(hop_distances)/np.array(opt_distances)).mean()-1)"
      ],
      "metadata": {
        "id": "Amfu_Tj7Txiw"
      },
      "execution_count": null,
      "outputs": []
    }
  ]
}